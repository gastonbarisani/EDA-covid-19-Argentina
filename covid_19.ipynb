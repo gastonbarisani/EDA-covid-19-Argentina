{
  "cells": [
    {
      "cell_type": "code",
      "execution_count": null,
      "metadata": {
        "id": "aPF9Nq7a9Pek"
      },
      "outputs": [],
      "source": [
        "import numpy as np\n",
        "import pandas as pd\n",
        "import matplotlib.pyplot as plt\n",
        "import seaborn as sns\n",
        "import datetime"
      ]
    },
    {
      "cell_type": "code",
      "source": [
        "#IMPORTO ENTRONO DE TRABAJO\n",
        "from google.colab import drive\n",
        "drive.mount('/content/gdrive',force_remount=True)"
      ],
      "metadata": {
        "colab": {
          "base_uri": "https://localhost:8080/"
        },
        "id": "B0GMdbct9UPK",
        "outputId": "79c93fc9-b42b-45ed-bc54-d353f45b1d4e"
      },
      "execution_count": null,
      "outputs": [
        {
          "output_type": "stream",
          "name": "stdout",
          "text": [
            "Mounted at /content/gdrive\n"
          ]
        }
      ]
    },
    {
      "cell_type": "code",
      "source": [
        "#DEFINO RUTA DE TRABAJO\n",
        "root_path = \"/content/gdrive/MyDrive/Data science/\""
      ],
      "metadata": {
        "id": "j0WY_EBy9WVF"
      },
      "execution_count": null,
      "outputs": []
    },
    {
      "cell_type": "code",
      "execution_count": null,
      "metadata": {
        "colab": {
          "base_uri": "https://localhost:8080/",
          "height": 357
        },
        "id": "isxJhcMs9Peq",
        "outputId": "d9704cb0-7eeb-45b4-fdec-8d3d59b6088e"
      },
      "outputs": [
        {
          "output_type": "execute_result",
          "data": {
            "text/html": [
              "\n",
              "  <div id=\"df-740002cd-ed53-4d6c-9932-ae38a04f4b1a\">\n",
              "    <div class=\"colab-df-container\">\n",
              "      <div>\n",
              "<style scoped>\n",
              "    .dataframe tbody tr th:only-of-type {\n",
              "        vertical-align: middle;\n",
              "    }\n",
              "\n",
              "    .dataframe tbody tr th {\n",
              "        vertical-align: top;\n",
              "    }\n",
              "\n",
              "    .dataframe thead th {\n",
              "        text-align: right;\n",
              "    }\n",
              "</style>\n",
              "<table border=\"1\" class=\"dataframe\">\n",
              "  <thead>\n",
              "    <tr style=\"text-align: right;\">\n",
              "      <th></th>\n",
              "      <th>id_evento_caso</th>\n",
              "      <th>sexo</th>\n",
              "      <th>edad</th>\n",
              "      <th>edad_años_meses</th>\n",
              "      <th>residencia_pais_nombre</th>\n",
              "      <th>residencia_provincia_nombre</th>\n",
              "      <th>residencia_departamento_nombre</th>\n",
              "      <th>carga_provincia_nombre</th>\n",
              "      <th>fecha_inicio_sintomas</th>\n",
              "      <th>fecha_apertura</th>\n",
              "      <th>sepi_apertura</th>\n",
              "      <th>fecha_internacion</th>\n",
              "      <th>cuidado_intensivo</th>\n",
              "      <th>fecha_cui_intensivo</th>\n",
              "      <th>fallecido</th>\n",
              "      <th>fecha_fallecimiento</th>\n",
              "      <th>asistencia_respiratoria_mecanica</th>\n",
              "      <th>carga_provincia_id</th>\n",
              "      <th>origen_financiamiento</th>\n",
              "      <th>clasificacion</th>\n",
              "      <th>clasificacion_resumen</th>\n",
              "      <th>residencia_provincia_id</th>\n",
              "      <th>fecha_diagnostico</th>\n",
              "      <th>residencia_departamento_id</th>\n",
              "      <th>ultima_actualizacion</th>\n",
              "    </tr>\n",
              "  </thead>\n",
              "  <tbody>\n",
              "    <tr>\n",
              "      <th>0</th>\n",
              "      <td>1000000</td>\n",
              "      <td>M</td>\n",
              "      <td>55.0</td>\n",
              "      <td>Años</td>\n",
              "      <td>Argentina</td>\n",
              "      <td>CABA</td>\n",
              "      <td>SIN ESPECIFICAR</td>\n",
              "      <td>Buenos Aires</td>\n",
              "      <td>NaN</td>\n",
              "      <td>2020-06-01</td>\n",
              "      <td>23</td>\n",
              "      <td>NaN</td>\n",
              "      <td>NO</td>\n",
              "      <td>NaN</td>\n",
              "      <td>NO</td>\n",
              "      <td>NaN</td>\n",
              "      <td>NO</td>\n",
              "      <td>6</td>\n",
              "      <td>Privado</td>\n",
              "      <td>Caso Descartado</td>\n",
              "      <td>Descartado</td>\n",
              "      <td>2</td>\n",
              "      <td>2020-06-09</td>\n",
              "      <td>0</td>\n",
              "      <td>2022-01-12</td>\n",
              "    </tr>\n",
              "    <tr>\n",
              "      <th>1</th>\n",
              "      <td>10000000</td>\n",
              "      <td>F</td>\n",
              "      <td>53.0</td>\n",
              "      <td>Años</td>\n",
              "      <td>Argentina</td>\n",
              "      <td>CABA</td>\n",
              "      <td>SIN ESPECIFICAR</td>\n",
              "      <td>CABA</td>\n",
              "      <td>NaN</td>\n",
              "      <td>2021-04-08</td>\n",
              "      <td>14</td>\n",
              "      <td>NaN</td>\n",
              "      <td>NO</td>\n",
              "      <td>NaN</td>\n",
              "      <td>NO</td>\n",
              "      <td>NaN</td>\n",
              "      <td>NO</td>\n",
              "      <td>2</td>\n",
              "      <td>Público</td>\n",
              "      <td>Caso Descartado</td>\n",
              "      <td>Descartado</td>\n",
              "      <td>2</td>\n",
              "      <td>2021-04-08</td>\n",
              "      <td>0</td>\n",
              "      <td>2022-01-12</td>\n",
              "    </tr>\n",
              "    <tr>\n",
              "      <th>2</th>\n",
              "      <td>10000001</td>\n",
              "      <td>F</td>\n",
              "      <td>23.0</td>\n",
              "      <td>Años</td>\n",
              "      <td>Argentina</td>\n",
              "      <td>Buenos Aires</td>\n",
              "      <td>Lomas de Zamora</td>\n",
              "      <td>Buenos Aires</td>\n",
              "      <td>2021-04-05</td>\n",
              "      <td>2021-04-08</td>\n",
              "      <td>14</td>\n",
              "      <td>NaN</td>\n",
              "      <td>NO</td>\n",
              "      <td>NaN</td>\n",
              "      <td>NO</td>\n",
              "      <td>NaN</td>\n",
              "      <td>NO</td>\n",
              "      <td>6</td>\n",
              "      <td>Público</td>\n",
              "      <td>Caso Descartado</td>\n",
              "      <td>Descartado</td>\n",
              "      <td>6</td>\n",
              "      <td>2021-04-08</td>\n",
              "      <td>490</td>\n",
              "      <td>2022-01-12</td>\n",
              "    </tr>\n",
              "    <tr>\n",
              "      <th>3</th>\n",
              "      <td>10000002</td>\n",
              "      <td>F</td>\n",
              "      <td>44.0</td>\n",
              "      <td>Años</td>\n",
              "      <td>Argentina</td>\n",
              "      <td>Buenos Aires</td>\n",
              "      <td>La Matanza</td>\n",
              "      <td>CABA</td>\n",
              "      <td>NaN</td>\n",
              "      <td>2021-04-08</td>\n",
              "      <td>14</td>\n",
              "      <td>NaN</td>\n",
              "      <td>NO</td>\n",
              "      <td>NaN</td>\n",
              "      <td>NO</td>\n",
              "      <td>NaN</td>\n",
              "      <td>NO</td>\n",
              "      <td>2</td>\n",
              "      <td>Público</td>\n",
              "      <td>Caso Descartado</td>\n",
              "      <td>Descartado</td>\n",
              "      <td>6</td>\n",
              "      <td>2021-04-06</td>\n",
              "      <td>427</td>\n",
              "      <td>2022-01-12</td>\n",
              "    </tr>\n",
              "    <tr>\n",
              "      <th>4</th>\n",
              "      <td>10000003</td>\n",
              "      <td>F</td>\n",
              "      <td>34.0</td>\n",
              "      <td>Años</td>\n",
              "      <td>Argentina</td>\n",
              "      <td>CABA</td>\n",
              "      <td>COMUNA 01</td>\n",
              "      <td>CABA</td>\n",
              "      <td>NaN</td>\n",
              "      <td>2021-04-08</td>\n",
              "      <td>14</td>\n",
              "      <td>NaN</td>\n",
              "      <td>NO</td>\n",
              "      <td>NaN</td>\n",
              "      <td>NO</td>\n",
              "      <td>NaN</td>\n",
              "      <td>NO</td>\n",
              "      <td>2</td>\n",
              "      <td>Público</td>\n",
              "      <td>Caso Descartado</td>\n",
              "      <td>Descartado</td>\n",
              "      <td>2</td>\n",
              "      <td>2021-04-08</td>\n",
              "      <td>1</td>\n",
              "      <td>2022-01-12</td>\n",
              "    </tr>\n",
              "  </tbody>\n",
              "</table>\n",
              "</div>\n",
              "      <button class=\"colab-df-convert\" onclick=\"convertToInteractive('df-740002cd-ed53-4d6c-9932-ae38a04f4b1a')\"\n",
              "              title=\"Convert this dataframe to an interactive table.\"\n",
              "              style=\"display:none;\">\n",
              "        \n",
              "  <svg xmlns=\"http://www.w3.org/2000/svg\" height=\"24px\"viewBox=\"0 0 24 24\"\n",
              "       width=\"24px\">\n",
              "    <path d=\"M0 0h24v24H0V0z\" fill=\"none\"/>\n",
              "    <path d=\"M18.56 5.44l.94 2.06.94-2.06 2.06-.94-2.06-.94-.94-2.06-.94 2.06-2.06.94zm-11 1L8.5 8.5l.94-2.06 2.06-.94-2.06-.94L8.5 2.5l-.94 2.06-2.06.94zm10 10l.94 2.06.94-2.06 2.06-.94-2.06-.94-.94-2.06-.94 2.06-2.06.94z\"/><path d=\"M17.41 7.96l-1.37-1.37c-.4-.4-.92-.59-1.43-.59-.52 0-1.04.2-1.43.59L10.3 9.45l-7.72 7.72c-.78.78-.78 2.05 0 2.83L4 21.41c.39.39.9.59 1.41.59.51 0 1.02-.2 1.41-.59l7.78-7.78 2.81-2.81c.8-.78.8-2.07 0-2.86zM5.41 20L4 18.59l7.72-7.72 1.47 1.35L5.41 20z\"/>\n",
              "  </svg>\n",
              "      </button>\n",
              "      \n",
              "  <style>\n",
              "    .colab-df-container {\n",
              "      display:flex;\n",
              "      flex-wrap:wrap;\n",
              "      gap: 12px;\n",
              "    }\n",
              "\n",
              "    .colab-df-convert {\n",
              "      background-color: #E8F0FE;\n",
              "      border: none;\n",
              "      border-radius: 50%;\n",
              "      cursor: pointer;\n",
              "      display: none;\n",
              "      fill: #1967D2;\n",
              "      height: 32px;\n",
              "      padding: 0 0 0 0;\n",
              "      width: 32px;\n",
              "    }\n",
              "\n",
              "    .colab-df-convert:hover {\n",
              "      background-color: #E2EBFA;\n",
              "      box-shadow: 0px 1px 2px rgba(60, 64, 67, 0.3), 0px 1px 3px 1px rgba(60, 64, 67, 0.15);\n",
              "      fill: #174EA6;\n",
              "    }\n",
              "\n",
              "    [theme=dark] .colab-df-convert {\n",
              "      background-color: #3B4455;\n",
              "      fill: #D2E3FC;\n",
              "    }\n",
              "\n",
              "    [theme=dark] .colab-df-convert:hover {\n",
              "      background-color: #434B5C;\n",
              "      box-shadow: 0px 1px 3px 1px rgba(0, 0, 0, 0.15);\n",
              "      filter: drop-shadow(0px 1px 2px rgba(0, 0, 0, 0.3));\n",
              "      fill: #FFFFFF;\n",
              "    }\n",
              "  </style>\n",
              "\n",
              "      <script>\n",
              "        const buttonEl =\n",
              "          document.querySelector('#df-740002cd-ed53-4d6c-9932-ae38a04f4b1a button.colab-df-convert');\n",
              "        buttonEl.style.display =\n",
              "          google.colab.kernel.accessAllowed ? 'block' : 'none';\n",
              "\n",
              "        async function convertToInteractive(key) {\n",
              "          const element = document.querySelector('#df-740002cd-ed53-4d6c-9932-ae38a04f4b1a');\n",
              "          const dataTable =\n",
              "            await google.colab.kernel.invokeFunction('convertToInteractive',\n",
              "                                                     [key], {});\n",
              "          if (!dataTable) return;\n",
              "\n",
              "          const docLinkHtml = 'Like what you see? Visit the ' +\n",
              "            '<a target=\"_blank\" href=https://colab.research.google.com/notebooks/data_table.ipynb>data table notebook</a>'\n",
              "            + ' to learn more about interactive tables.';\n",
              "          element.innerHTML = '';\n",
              "          dataTable['output_type'] = 'display_data';\n",
              "          await google.colab.output.renderOutput(dataTable, element);\n",
              "          const docLink = document.createElement('div');\n",
              "          docLink.innerHTML = docLinkHtml;\n",
              "          element.appendChild(docLink);\n",
              "        }\n",
              "      </script>\n",
              "    </div>\n",
              "  </div>\n",
              "  "
            ],
            "text/plain": [
              "   id_evento_caso sexo  ...  residencia_departamento_id ultima_actualizacion\n",
              "0         1000000    M  ...                           0           2022-01-12\n",
              "1        10000000    F  ...                           0           2022-01-12\n",
              "2        10000001    F  ...                         490           2022-01-12\n",
              "3        10000002    F  ...                         427           2022-01-12\n",
              "4        10000003    F  ...                           1           2022-01-12\n",
              "\n",
              "[5 rows x 25 columns]"
            ]
          },
          "metadata": {},
          "execution_count": 4
        }
      ],
      "source": [
        "casos = pd.read_csv(root_path+\"Covid19Casos.csv\")\n",
        "casos.head()"
      ]
    },
    {
      "cell_type": "code",
      "source": [
        "casos.shape"
      ],
      "metadata": {
        "colab": {
          "base_uri": "https://localhost:8080/"
        },
        "id": "r2UvfS5J-Fwz",
        "outputId": "207cddfa-5eea-4492-901a-1bc05cc49e5b"
      },
      "execution_count": null,
      "outputs": [
        {
          "output_type": "execute_result",
          "data": {
            "text/plain": [
              "(23892105, 25)"
            ]
          },
          "metadata": {},
          "execution_count": 5
        }
      ]
    },
    {
      "cell_type": "code",
      "execution_count": null,
      "metadata": {
        "colab": {
          "base_uri": "https://localhost:8080/"
        },
        "id": "WdHGbXX29Peq",
        "outputId": "a04a831a-45e5-4b5b-f836-d7e3379cfda0"
      },
      "outputs": [
        {
          "output_type": "execute_result",
          "data": {
            "text/plain": [
              "Descartado    16497108\n",
              "Confirmado     6595361\n",
              "Sospechoso      799636\n",
              "Name: clasificacion_resumen, dtype: int64"
            ]
          },
          "metadata": {},
          "execution_count": 6
        }
      ],
      "source": [
        "casos[\"clasificacion_resumen\"].value_counts()"
      ]
    },
    {
      "cell_type": "code",
      "execution_count": null,
      "metadata": {
        "colab": {
          "base_uri": "https://localhost:8080/"
        },
        "id": "72CXur2w9Per",
        "outputId": "bcfa82cc-40d9-494e-b497-6d61db934a44"
      },
      "outputs": [
        {
          "output_type": "execute_result",
          "data": {
            "text/plain": [
              "Index(['id_evento_caso', 'sexo', 'edad', 'edad_años_meses',\n",
              "       'residencia_pais_nombre', 'residencia_provincia_nombre',\n",
              "       'residencia_departamento_nombre', 'carga_provincia_nombre',\n",
              "       'fecha_inicio_sintomas', 'fecha_apertura', 'sepi_apertura',\n",
              "       'fecha_internacion', 'cuidado_intensivo', 'fecha_cui_intensivo',\n",
              "       'fallecido', 'fecha_fallecimiento', 'asistencia_respiratoria_mecanica',\n",
              "       'carga_provincia_id', 'origen_financiamiento', 'clasificacion',\n",
              "       'clasificacion_resumen', 'residencia_provincia_id', 'fecha_diagnostico',\n",
              "       'residencia_departamento_id', 'ultima_actualizacion'],\n",
              "      dtype='object')"
            ]
          },
          "metadata": {},
          "execution_count": 7
        }
      ],
      "source": [
        "casos.columns"
      ]
    },
    {
      "cell_type": "code",
      "source": [
        "#ME QUEDO SOLO CON LOS CASOS POSITIVOS\n",
        "indexNames = casos[casos['clasificacion_resumen'] == 'Descartado' ].index\n",
        "casos.drop(indexNames , inplace=True)\n",
        "\n",
        "indexNames = casos[casos['clasificacion_resumen'] == 'Sospechoso' ].index\n",
        "casos.drop(indexNames , inplace=True)"
      ],
      "metadata": {
        "id": "YxnlojYo-MmH"
      },
      "execution_count": null,
      "outputs": []
    },
    {
      "cell_type": "code",
      "source": [
        "casos[\"clasificacion_resumen\"].value_counts()"
      ],
      "metadata": {
        "colab": {
          "base_uri": "https://localhost:8080/"
        },
        "id": "sbdplFUT-MpA",
        "outputId": "72cd5f78-8ff1-4633-b521-26262516798e"
      },
      "execution_count": null,
      "outputs": [
        {
          "output_type": "execute_result",
          "data": {
            "text/plain": [
              "Confirmado    6595361\n",
              "Name: clasificacion_resumen, dtype: int64"
            ]
          },
          "metadata": {},
          "execution_count": 9
        }
      ]
    },
    {
      "cell_type": "markdown",
      "metadata": {
        "id": "inX9y80T9Per"
      },
      "source": [
        "# Distribución de casos por sexo"
      ]
    },
    {
      "cell_type": "code",
      "execution_count": null,
      "metadata": {
        "colab": {
          "base_uri": "https://localhost:8080/"
        },
        "id": "podHFmRk9Pet",
        "outputId": "98418a89-4823-4f03-b081-846bc3203381"
      },
      "outputs": [
        {
          "output_type": "execute_result",
          "data": {
            "text/plain": [
              "F     3357484\n",
              "M     3193429\n",
              "NR      44448\n",
              "Name: sexo, dtype: int64"
            ]
          },
          "metadata": {},
          "execution_count": 10
        }
      ],
      "source": [
        "casos[\"sexo\"].value_counts()"
      ]
    },
    {
      "cell_type": "code",
      "execution_count": null,
      "metadata": {
        "id": "vzXu9wp-9Peu"
      },
      "outputs": [],
      "source": [
        "total = casos[\"sexo\"].value_counts()[0] + casos[\"sexo\"].value_counts()[1] + casos[\"sexo\"].value_counts()[2]\n",
        "fem = casos[\"sexo\"].value_counts()[0]\n",
        "mas = casos[\"sexo\"].value_counts()[1]\n",
        "otro = casos[\"sexo\"].value_counts()[2]\n",
        "\n",
        "fem_porcentaje = round(fem * 100 / total, 2)\n",
        "mas_porcentaje = round(mas * 100/total, 2)\n",
        "otro_porcentaje = round(otro * 100/total, 2)"
      ]
    },
    {
      "cell_type": "code",
      "execution_count": null,
      "metadata": {
        "colab": {
          "base_uri": "https://localhost:8080/",
          "height": 324
        },
        "id": "ZXVT2FWN9Pew",
        "outputId": "e503a9ea-3965-44c5-d25a-50975c11c993"
      },
      "outputs": [
        {
          "output_type": "display_data",
          "data": {
            "image/png": "[encoded data removed]",
            "text/plain": [
              "<Figure size 1080x360 with 1 Axes>"
            ]
          },
          "metadata": {}
        }
      ],
      "source": [
        "x = [fem_porcentaje, mas_porcentaje, otro_porcentaje]\n",
        "label = [str(fem_porcentaje) + \"%\", str(mas_porcentaje) + \"%\", str(otro_porcentaje) + \"%\"]\n",
        "label_2 = [\"Mujeres\", \"Hombres\", \"Otros\"]\n",
        "\n",
        "plt.figure(figsize=(15,5))\n",
        "plt.pie(x, labels=label)\n",
        "plt.title(\"Casos por sexo\", size=20)\n",
        "plt.legend(loc=\"upper right\", frameon=True, labels=label_2)\n",
        "\n",
        "my_circle=plt.Circle( (0,0), 0.6, color='white')\n",
        "p=plt.gcf()\n",
        "p.gca().add_artist(my_circle)\n",
        "\n",
        "plt.show()"
      ]
    },
    {
      "cell_type": "markdown",
      "metadata": {
        "id": "JVoZLelx9Pex"
      },
      "source": [
        "# Casos totales por provincia"
      ]
    },
    {
      "cell_type": "code",
      "execution_count": null,
      "metadata": {
        "colab": {
          "base_uri": "https://localhost:8080/"
        },
        "id": "zZl6omns9Pey",
        "outputId": "c77a5372-9f55-475e-fb6f-76d4ddb31549"
      },
      "outputs": [
        {
          "output_type": "execute_result",
          "data": {
            "text/plain": [
              "Buenos Aires           2516731\n",
              "Córdoba                 714898\n",
              "CABA                    707768\n",
              "Santa Fe                561653\n",
              "Tucumán                 253651\n",
              "Mendoza                 198728\n",
              "Entre Ríos              154767\n",
              "Neuquén                 136639\n",
              "Chaco                   120146\n",
              "Salta                   118284\n",
              "Río Negro               118208\n",
              "Corrientes              107546\n",
              "Santiago del Estero     103132\n",
              "San Luis                 97990\n",
              "Chubut                   92358\n",
              "San Juan                 90156\n",
              "La Pampa                 80226\n",
              "Santa Cruz               73146\n",
              "Formosa                  70931\n",
              "Jujuy                    65647\n",
              "Catamarca                63432\n",
              "Misiones                 41230\n",
              "La Rioja                 36998\n",
              "Tierra del Fuego         36102\n",
              "SIN ESPECIFICAR          34994\n",
              "Name: residencia_provincia_nombre, dtype: int64"
            ]
          },
          "metadata": {},
          "execution_count": 13
        }
      ],
      "source": [
        "casos[\"residencia_provincia_nombre\"].value_counts()"
      ]
    },
    {
      "cell_type": "code",
      "execution_count": null,
      "metadata": {
        "colab": {
          "base_uri": "https://localhost:8080/",
          "height": 420
        },
        "id": "T_SizfE29Pez",
        "outputId": "c21b01cf-7e30-4c0e-c6f0-7bfd5f180dd5"
      },
      "outputs": [
        {
          "output_type": "display_data",
          "data": {
            "image/png": "[encoded data removed]",
            "text/plain": [
              "<Figure size 1080x360 with 1 Axes>"
            ]
          },
          "metadata": {
            "needs_background": "light"
          }
        }
      ],
      "source": [
        "plt.figure(figsize=(15,5))\n",
        "ax = sns.countplot(x=\"residencia_provincia_nombre\", data=casos)\n",
        "plt.title(\"Casos por provincia\", size=20)\n",
        "plt.xlabel(\"Provincia\", size=15)\n",
        "plt.ylabel(\"Cantidad\", size=15)\n",
        "ax.set_xticklabels(ax.get_xticklabels(), rotation=40, ha=\"right\")\n",
        "plt.show()"
      ]
    },
    {
      "cell_type": "markdown",
      "metadata": {
        "id": "5rGxAKSV9Pez"
      },
      "source": [
        "# Casos totales por día y mes (2020 - 2021 - 2022)"
      ]
    },
    {
      "cell_type": "code",
      "execution_count": null,
      "metadata": {
        "id": "4vBWMbKT9Pe0"
      },
      "outputs": [],
      "source": [
        "casos[\"fecha_apertura\"] = pd.to_datetime(casos[\"fecha_apertura\"])"
      ]
    },
    {
      "cell_type": "code",
      "execution_count": null,
      "metadata": {
        "id": "IevuAVuH9Pe0"
      },
      "outputs": [],
      "source": [
        "casos['mes'] = casos['fecha_apertura'].dt.month\n",
        "\n",
        "casos['año'] = casos['fecha_apertura'].dt.year"
      ]
    },
    {
      "cell_type": "code",
      "execution_count": null,
      "metadata": {
        "colab": {
          "base_uri": "https://localhost:8080/",
          "height": 360
        },
        "id": "0jGRMaDz9Pe1",
        "outputId": "0cf03630-72d5-4d50-f0e7-519ec4f5bf45"
      },
      "outputs": [
        {
          "output_type": "display_data",
          "data": {
            "image/png": "[encoded data removed]",
            "text/plain": [
              "<Figure size 1080x360 with 1 Axes>"
            ]
          },
          "metadata": {
            "needs_background": "light"
          }
        }
      ],
      "source": [
        "labels_año = [2020, 2021, 2022]\n",
        "labels_mes = [\"Enero\", \"Febrero\", \"Marzo\", \"Abril\", \"Mayo\", \"Junio\", \"Julio\", \"Agosto\", \"Septiembre\", \"Octubre\", \"Noviembre\", \"Diciembre\"]\n",
        "\n",
        "plt.figure(figsize=(15,5))\n",
        "ax  = sns.countplot(data=casos , x=\"mes\", hue=\"año\")\n",
        "ax.set_xticklabels(labels = labels_mes)\n",
        "plt.title(\"Casos por mes\", size=20)\n",
        "plt.xlabel(\"Mes\", size=15)\n",
        "plt.ylabel(\"Cantidad\", size=15)\n",
        "plt.legend(loc=\"upper right\", frameon=True, labels=labels_año)\n",
        "plt.show()"
      ]
    },
    {
      "cell_type": "code",
      "source": [
        "y = casos[\"fecha_apertura\"].value_counts()\n",
        "x = y.index\n",
        "\n",
        "plt.figure(figsize=(15,5))\n",
        "sns.lineplot(x=x, y=y)\n",
        "plt.title(\"Casos por día\", size=20)\n",
        "plt.xlabel(\"Días\", size=15)\n",
        "plt.ylabel(\"Cantidad\", size=15)\n",
        "plt.show()"
      ],
      "metadata": {
        "colab": {
          "base_uri": "https://localhost:8080/",
          "height": 360
        },
        "id": "3_O90f5wDv-6",
        "outputId": "e1a99c2a-a05d-46d3-95ed-a0403c9df45d"
      },
      "execution_count": null,
      "outputs": [
        {
          "output_type": "display_data",
          "data": {
            "image/png": "[encoded data removed]",
            "text/plain": [
              "<Figure size 1080x360 with 1 Axes>"
            ]
          },
          "metadata": {
            "needs_background": "light"
          }
        }
      ]
    },
    {
      "cell_type": "code",
      "source": [
        ""
      ],
      "metadata": {
        "id": "QwLjhWa0U6Tk"
      },
      "execution_count": null,
      "outputs": []
    },
    {
      "cell_type": "markdown",
      "source": [
        "# Testeos por día"
      ],
      "metadata": {
        "id": "kHqCHD61VIX_"
      }
    },
    {
      "cell_type": "code",
      "source": [
        "casos_totales = pd.read_csv(root_path+\"Covid19Casos.csv\")\n",
        "casos_totales.head()"
      ],
      "metadata": {
        "colab": {
          "base_uri": "https://localhost:8080/",
          "height": 357
        },
        "id": "q8Uq2NWEJoVL",
        "outputId": "de68bfe9-19ae-4e68-9bb9-e2c3a3afb09a"
      },
      "execution_count": null,
      "outputs": [
        {
          "output_type": "execute_result",
          "data": {
            "text/html": [
              "\n",
              "  <div id=\"df-f1e99b47-4d08-4145-8b66-5266cc651e3c\">\n",
              "    <div class=\"colab-df-container\">\n",
              "      <div>\n",
              "<style scoped>\n",
              "    .dataframe tbody tr th:only-of-type {\n",
              "        vertical-align: middle;\n",
              "    }\n",
              "\n",
              "    .dataframe tbody tr th {\n",
              "        vertical-align: top;\n",
              "    }\n",
              "\n",
              "    .dataframe thead th {\n",
              "        text-align: right;\n",
              "    }\n",
              "</style>\n",
              "<table border=\"1\" class=\"dataframe\">\n",
              "  <thead>\n",
              "    <tr style=\"text-align: right;\">\n",
              "      <th></th>\n",
              "      <th>id_evento_caso</th>\n",
              "      <th>sexo</th>\n",
              "      <th>edad</th>\n",
              "      <th>edad_años_meses</th>\n",
              "      <th>residencia_pais_nombre</th>\n",
              "      <th>residencia_provincia_nombre</th>\n",
              "      <th>residencia_departamento_nombre</th>\n",
              "      <th>carga_provincia_nombre</th>\n",
              "      <th>fecha_inicio_sintomas</th>\n",
              "      <th>fecha_apertura</th>\n",
              "      <th>sepi_apertura</th>\n",
              "      <th>fecha_internacion</th>\n",
              "      <th>cuidado_intensivo</th>\n",
              "      <th>fecha_cui_intensivo</th>\n",
              "      <th>fallecido</th>\n",
              "      <th>fecha_fallecimiento</th>\n",
              "      <th>asistencia_respiratoria_mecanica</th>\n",
              "      <th>carga_provincia_id</th>\n",
              "      <th>origen_financiamiento</th>\n",
              "      <th>clasificacion</th>\n",
              "      <th>clasificacion_resumen</th>\n",
              "      <th>residencia_provincia_id</th>\n",
              "      <th>fecha_diagnostico</th>\n",
              "      <th>residencia_departamento_id</th>\n",
              "      <th>ultima_actualizacion</th>\n",
              "    </tr>\n",
              "  </thead>\n",
              "  <tbody>\n",
              "    <tr>\n",
              "      <th>0</th>\n",
              "      <td>1000000</td>\n",
              "      <td>M</td>\n",
              "      <td>55.0</td>\n",
              "      <td>Años</td>\n",
              "      <td>Argentina</td>\n",
              "      <td>CABA</td>\n",
              "      <td>SIN ESPECIFICAR</td>\n",
              "      <td>Buenos Aires</td>\n",
              "      <td>NaN</td>\n",
              "      <td>2020-06-01</td>\n",
              "      <td>23</td>\n",
              "      <td>NaN</td>\n",
              "      <td>NO</td>\n",
              "      <td>NaN</td>\n",
              "      <td>NO</td>\n",
              "      <td>NaN</td>\n",
              "      <td>NO</td>\n",
              "      <td>6</td>\n",
              "      <td>Privado</td>\n",
              "      <td>Caso Descartado</td>\n",
              "      <td>Descartado</td>\n",
              "      <td>2</td>\n",
              "      <td>2020-06-09</td>\n",
              "      <td>0</td>\n",
              "      <td>2022-01-12</td>\n",
              "    </tr>\n",
              "    <tr>\n",
              "      <th>1</th>\n",
              "      <td>10000000</td>\n",
              "      <td>F</td>\n",
              "      <td>53.0</td>\n",
              "      <td>Años</td>\n",
              "      <td>Argentina</td>\n",
              "      <td>CABA</td>\n",
              "      <td>SIN ESPECIFICAR</td>\n",
              "      <td>CABA</td>\n",
              "      <td>NaN</td>\n",
              "      <td>2021-04-08</td>\n",
              "      <td>14</td>\n",
              "      <td>NaN</td>\n",
              "      <td>NO</td>\n",
              "      <td>NaN</td>\n",
              "      <td>NO</td>\n",
              "      <td>NaN</td>\n",
              "      <td>NO</td>\n",
              "      <td>2</td>\n",
              "      <td>Público</td>\n",
              "      <td>Caso Descartado</td>\n",
              "      <td>Descartado</td>\n",
              "      <td>2</td>\n",
              "      <td>2021-04-08</td>\n",
              "      <td>0</td>\n",
              "      <td>2022-01-12</td>\n",
              "    </tr>\n",
              "    <tr>\n",
              "      <th>2</th>\n",
              "      <td>10000001</td>\n",
              "      <td>F</td>\n",
              "      <td>23.0</td>\n",
              "      <td>Años</td>\n",
              "      <td>Argentina</td>\n",
              "      <td>Buenos Aires</td>\n",
              "      <td>Lomas de Zamora</td>\n",
              "      <td>Buenos Aires</td>\n",
              "      <td>2021-04-05</td>\n",
              "      <td>2021-04-08</td>\n",
              "      <td>14</td>\n",
              "      <td>NaN</td>\n",
              "      <td>NO</td>\n",
              "      <td>NaN</td>\n",
              "      <td>NO</td>\n",
              "      <td>NaN</td>\n",
              "      <td>NO</td>\n",
              "      <td>6</td>\n",
              "      <td>Público</td>\n",
              "      <td>Caso Descartado</td>\n",
              "      <td>Descartado</td>\n",
              "      <td>6</td>\n",
              "      <td>2021-04-08</td>\n",
              "      <td>490</td>\n",
              "      <td>2022-01-12</td>\n",
              "    </tr>\n",
              "    <tr>\n",
              "      <th>3</th>\n",
              "      <td>10000002</td>\n",
              "      <td>F</td>\n",
              "      <td>44.0</td>\n",
              "      <td>Años</td>\n",
              "      <td>Argentina</td>\n",
              "      <td>Buenos Aires</td>\n",
              "      <td>La Matanza</td>\n",
              "      <td>CABA</td>\n",
              "      <td>NaN</td>\n",
              "      <td>2021-04-08</td>\n",
              "      <td>14</td>\n",
              "      <td>NaN</td>\n",
              "      <td>NO</td>\n",
              "      <td>NaN</td>\n",
              "      <td>NO</td>\n",
              "      <td>NaN</td>\n",
              "      <td>NO</td>\n",
              "      <td>2</td>\n",
              "      <td>Público</td>\n",
              "      <td>Caso Descartado</td>\n",
              "      <td>Descartado</td>\n",
              "      <td>6</td>\n",
              "      <td>2021-04-06</td>\n",
              "      <td>427</td>\n",
              "      <td>2022-01-12</td>\n",
              "    </tr>\n",
              "    <tr>\n",
              "      <th>4</th>\n",
              "      <td>10000003</td>\n",
              "      <td>F</td>\n",
              "      <td>34.0</td>\n",
              "      <td>Años</td>\n",
              "      <td>Argentina</td>\n",
              "      <td>CABA</td>\n",
              "      <td>COMUNA 01</td>\n",
              "      <td>CABA</td>\n",
              "      <td>NaN</td>\n",
              "      <td>2021-04-08</td>\n",
              "      <td>14</td>\n",
              "      <td>NaN</td>\n",
              "      <td>NO</td>\n",
              "      <td>NaN</td>\n",
              "      <td>NO</td>\n",
              "      <td>NaN</td>\n",
              "      <td>NO</td>\n",
              "      <td>2</td>\n",
              "      <td>Público</td>\n",
              "      <td>Caso Descartado</td>\n",
              "      <td>Descartado</td>\n",
              "      <td>2</td>\n",
              "      <td>2021-04-08</td>\n",
              "      <td>1</td>\n",
              "      <td>2022-01-12</td>\n",
              "    </tr>\n",
              "  </tbody>\n",
              "</table>\n",
              "</div>\n",
              "      <button class=\"colab-df-convert\" onclick=\"convertToInteractive('df-f1e99b47-4d08-4145-8b66-5266cc651e3c')\"\n",
              "              title=\"Convert this dataframe to an interactive table.\"\n",
              "              style=\"display:none;\">\n",
              "        \n",
              "  <svg xmlns=\"http://www.w3.org/2000/svg\" height=\"24px\"viewBox=\"0 0 24 24\"\n",
              "       width=\"24px\">\n",
              "    <path d=\"M0 0h24v24H0V0z\" fill=\"none\"/>\n",
              "    <path d=\"M18.56 5.44l.94 2.06.94-2.06 2.06-.94-2.06-.94-.94-2.06-.94 2.06-2.06.94zm-11 1L8.5 8.5l.94-2.06 2.06-.94-2.06-.94L8.5 2.5l-.94 2.06-2.06.94zm10 10l.94 2.06.94-2.06 2.06-.94-2.06-.94-.94-2.06-.94 2.06-2.06.94z\"/><path d=\"M17.41 7.96l-1.37-1.37c-.4-.4-.92-.59-1.43-.59-.52 0-1.04.2-1.43.59L10.3 9.45l-7.72 7.72c-.78.78-.78 2.05 0 2.83L4 21.41c.39.39.9.59 1.41.59.51 0 1.02-.2 1.41-.59l7.78-7.78 2.81-2.81c.8-.78.8-2.07 0-2.86zM5.41 20L4 18.59l7.72-7.72 1.47 1.35L5.41 20z\"/>\n",
              "  </svg>\n",
              "      </button>\n",
              "      \n",
              "  <style>\n",
              "    .colab-df-container {\n",
              "      display:flex;\n",
              "      flex-wrap:wrap;\n",
              "      gap: 12px;\n",
              "    }\n",
              "\n",
              "    .colab-df-convert {\n",
              "      background-color: #E8F0FE;\n",
              "      border: none;\n",
              "      border-radius: 50%;\n",
              "      cursor: pointer;\n",
              "      display: none;\n",
              "      fill: #1967D2;\n",
              "      height: 32px;\n",
              "      padding: 0 0 0 0;\n",
              "      width: 32px;\n",
              "    }\n",
              "\n",
              "    .colab-df-convert:hover {\n",
              "      background-color: #E2EBFA;\n",
              "      box-shadow: 0px 1px 2px rgba(60, 64, 67, 0.3), 0px 1px 3px 1px rgba(60, 64, 67, 0.15);\n",
              "      fill: #174EA6;\n",
              "    }\n",
              "\n",
              "    [theme=dark] .colab-df-convert {\n",
              "      background-color: #3B4455;\n",
              "      fill: #D2E3FC;\n",
              "    }\n",
              "\n",
              "    [theme=dark] .colab-df-convert:hover {\n",
              "      background-color: #434B5C;\n",
              "      box-shadow: 0px 1px 3px 1px rgba(0, 0, 0, 0.15);\n",
              "      filter: drop-shadow(0px 1px 2px rgba(0, 0, 0, 0.3));\n",
              "      fill: #FFFFFF;\n",
              "    }\n",
              "  </style>\n",
              "\n",
              "      <script>\n",
              "        const buttonEl =\n",
              "          document.querySelector('#df-f1e99b47-4d08-4145-8b66-5266cc651e3c button.colab-df-convert');\n",
              "        buttonEl.style.display =\n",
              "          google.colab.kernel.accessAllowed ? 'block' : 'none';\n",
              "\n",
              "        async function convertToInteractive(key) {\n",
              "          const element = document.querySelector('#df-f1e99b47-4d08-4145-8b66-5266cc651e3c');\n",
              "          const dataTable =\n",
              "            await google.colab.kernel.invokeFunction('convertToInteractive',\n",
              "                                                     [key], {});\n",
              "          if (!dataTable) return;\n",
              "\n",
              "          const docLinkHtml = 'Like what you see? Visit the ' +\n",
              "            '<a target=\"_blank\" href=https://colab.research.google.com/notebooks/data_table.ipynb>data table notebook</a>'\n",
              "            + ' to learn more about interactive tables.';\n",
              "          element.innerHTML = '';\n",
              "          dataTable['output_type'] = 'display_data';\n",
              "          await google.colab.output.renderOutput(dataTable, element);\n",
              "          const docLink = document.createElement('div');\n",
              "          docLink.innerHTML = docLinkHtml;\n",
              "          element.appendChild(docLink);\n",
              "        }\n",
              "      </script>\n",
              "    </div>\n",
              "  </div>\n",
              "  "
            ],
            "text/plain": [
              "   id_evento_caso sexo  ...  residencia_departamento_id ultima_actualizacion\n",
              "0         1000000    M  ...                           0           2022-01-12\n",
              "1        10000000    F  ...                           0           2022-01-12\n",
              "2        10000001    F  ...                         490           2022-01-12\n",
              "3        10000002    F  ...                         427           2022-01-12\n",
              "4        10000003    F  ...                           1           2022-01-12\n",
              "\n",
              "[5 rows x 25 columns]"
            ]
          },
          "metadata": {},
          "execution_count": 6
        }
      ]
    },
    {
      "cell_type": "code",
      "source": [
        "y=casos_totales[\"fecha_diagnostico\"].value_counts()\n",
        "x=y.index\n",
        "\n",
        "plt.figure(figsize=(15,5))\n",
        "sns.lineplot(x=x, y=y)\n",
        "plt.title(\"Testeos por día\", size=20)\n",
        "plt.xlabel(\"Días\", size=15)\n",
        "plt.ylabel(\"Cantidad de testeos\", size=15)\n",
        "plt.show()"
      ],
      "metadata": {
        "colab": {
          "base_uri": "https://localhost:8080/",
          "height": 360
        },
        "id": "_BpVJPzhKNtD",
        "outputId": "58d3ae4f-d497-4e4d-c583-13495bfecad0"
      },
      "execution_count": null,
      "outputs": [
        {
          "output_type": "display_data",
          "data": {
            "image/png": "[encoded data removed]",
            "text/plain": [
              "<Figure size 1080x360 with 1 Axes>"
            ]
          },
          "metadata": {
            "needs_background": "light"
          }
        }
      ]
    },
    {
      "cell_type": "code",
      "source": [
        ""
      ],
      "metadata": {
        "id": "n_54sRaAUTny"
      },
      "execution_count": null,
      "outputs": []
    }
  ],
  "metadata": {
    "kernelspec": {
      "display_name": "Python 3",
      "language": "python",
      "name": "python3"
    },
    "language_info": {
      "codemirror_mode": {
        "name": "ipython",
        "version": 3
      },
      "file_extension": ".py",
      "mimetype": "text/x-python",
      "name": "python",
      "nbconvert_exporter": "python",
      "pygments_lexer": "ipython3",
      "version": "3.7.6"
    },
    "colab": {
      "name": "covid-19.ipynb",
      "provenance": [],
      "collapsed_sections": []
    }
  },
  "nbformat": 4,
  "nbformat_minor": 0
}